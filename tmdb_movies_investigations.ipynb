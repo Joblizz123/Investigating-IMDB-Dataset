{
 "cells": [
  {
   "cell_type": "markdown",
   "id": "8e005d28",
   "metadata": {},
   "source": [
    "\n",
    "# Project: Investigating the tmdb movies Dataset"
   ]
  },
  {
   "cell_type": "markdown",
   "id": "75b22c16",
   "metadata": {},
   "source": [
    "## Introduction\n",
    "### Data Description\n",
    ">\n",
    "> This dataset includes information, and eventual investigation, about the various tmdb movies released over the years\n",
    ">\n",
    "#### Questions(s) for Analysis\n",
    "Given the dataset, it is required to draw insights from the this dataset. A few questions are asked; these questions serve as guide for the subsequent explorations. These questions include:\n",
    "1. Which movies are the most popular of all time?\n",
    "2. Which genres are the most popular of all time?\n",
    "3. Which actors are the most popular?\n",
    "4. How is revenue affected as the years go by?\n",
    "5. Which movie title had the highest vote count?\n",
    "6. Which movie title had the longest run time?\n",
    "7. Which movie actors got the highest vote counts?\n",
    "8. How is popularity trending over the period of time?"
   ]
  },
  {
   "cell_type": "code",
   "execution_count": 203,
   "id": "e551402d",
   "metadata": {},
   "outputs": [],
   "source": [
    "# Import the necessry libraries\n",
    "import pandas as pd\n",
    "import numpy as np\n",
    "import matplotlib.pyplot as plt\n",
    "import seaborn as sns"
   ]
  },
  {
   "cell_type": "markdown",
   "id": "b6cb4747",
   "metadata": {},
   "source": [
    "## Data Wrangling \n",
    "\n",
    "### General Properties"
   ]
  },
  {
   "cell_type": "code",
   "execution_count": 207,
   "id": "2411fe46",
   "metadata": {},
   "outputs": [
    {
     "data": {
      "text/html": [
       "<div>\n",
       "<style scoped>\n",
       "    .dataframe tbody tr th:only-of-type {\n",
       "        vertical-align: middle;\n",
       "    }\n",
       "\n",
       "    .dataframe tbody tr th {\n",
       "        vertical-align: top;\n",
       "    }\n",
       "\n",
       "    .dataframe thead th {\n",
       "        text-align: right;\n",
       "    }\n",
       "</style>\n",
       "<table border=\"1\" class=\"dataframe\">\n",
       "  <thead>\n",
       "    <tr style=\"text-align: right;\">\n",
       "      <th></th>\n",
       "      <th>id</th>\n",
       "      <th>imdb_id</th>\n",
       "      <th>popularity</th>\n",
       "      <th>budget</th>\n",
       "      <th>revenue</th>\n",
       "      <th>original_title</th>\n",
       "      <th>cast</th>\n",
       "      <th>homepage</th>\n",
       "      <th>director</th>\n",
       "      <th>tagline</th>\n",
       "      <th>...</th>\n",
       "      <th>overview</th>\n",
       "      <th>runtime</th>\n",
       "      <th>genres</th>\n",
       "      <th>production_companies</th>\n",
       "      <th>release_date</th>\n",
       "      <th>vote_count</th>\n",
       "      <th>vote_average</th>\n",
       "      <th>release_year</th>\n",
       "      <th>budget_adj</th>\n",
       "      <th>revenue_adj</th>\n",
       "    </tr>\n",
       "  </thead>\n",
       "  <tbody>\n",
       "    <tr>\n",
       "      <th>0</th>\n",
       "      <td>135397</td>\n",
       "      <td>tt0369610</td>\n",
       "      <td>32.985763</td>\n",
       "      <td>150000000</td>\n",
       "      <td>1513528810</td>\n",
       "      <td>Jurassic World</td>\n",
       "      <td>Chris Pratt|Bryce Dallas Howard|Irrfan Khan|Vi...</td>\n",
       "      <td>http://www.jurassicworld.com/</td>\n",
       "      <td>Colin Trevorrow</td>\n",
       "      <td>The park is open.</td>\n",
       "      <td>...</td>\n",
       "      <td>Twenty-two years after the events of Jurassic ...</td>\n",
       "      <td>124</td>\n",
       "      <td>Action|Adventure|Science Fiction|Thriller</td>\n",
       "      <td>Universal Studios|Amblin Entertainment|Legenda...</td>\n",
       "      <td>6/9/15</td>\n",
       "      <td>5562</td>\n",
       "      <td>6.5</td>\n",
       "      <td>2015</td>\n",
       "      <td>1.379999e+08</td>\n",
       "      <td>1.392446e+09</td>\n",
       "    </tr>\n",
       "    <tr>\n",
       "      <th>1</th>\n",
       "      <td>76341</td>\n",
       "      <td>tt1392190</td>\n",
       "      <td>28.419936</td>\n",
       "      <td>150000000</td>\n",
       "      <td>378436354</td>\n",
       "      <td>Mad Max: Fury Road</td>\n",
       "      <td>Tom Hardy|Charlize Theron|Hugh Keays-Byrne|Nic...</td>\n",
       "      <td>http://www.madmaxmovie.com/</td>\n",
       "      <td>George Miller</td>\n",
       "      <td>What a Lovely Day.</td>\n",
       "      <td>...</td>\n",
       "      <td>An apocalyptic story set in the furthest reach...</td>\n",
       "      <td>120</td>\n",
       "      <td>Action|Adventure|Science Fiction|Thriller</td>\n",
       "      <td>Village Roadshow Pictures|Kennedy Miller Produ...</td>\n",
       "      <td>5/13/15</td>\n",
       "      <td>6185</td>\n",
       "      <td>7.1</td>\n",
       "      <td>2015</td>\n",
       "      <td>1.379999e+08</td>\n",
       "      <td>3.481613e+08</td>\n",
       "    </tr>\n",
       "    <tr>\n",
       "      <th>2</th>\n",
       "      <td>262500</td>\n",
       "      <td>tt2908446</td>\n",
       "      <td>13.112507</td>\n",
       "      <td>110000000</td>\n",
       "      <td>295238201</td>\n",
       "      <td>Insurgent</td>\n",
       "      <td>Shailene Woodley|Theo James|Kate Winslet|Ansel...</td>\n",
       "      <td>http://www.thedivergentseries.movie/#insurgent</td>\n",
       "      <td>Robert Schwentke</td>\n",
       "      <td>One Choice Can Destroy You</td>\n",
       "      <td>...</td>\n",
       "      <td>Beatrice Prior must confront her inner demons ...</td>\n",
       "      <td>119</td>\n",
       "      <td>Adventure|Science Fiction|Thriller</td>\n",
       "      <td>Summit Entertainment|Mandeville Films|Red Wago...</td>\n",
       "      <td>3/18/15</td>\n",
       "      <td>2480</td>\n",
       "      <td>6.3</td>\n",
       "      <td>2015</td>\n",
       "      <td>1.012000e+08</td>\n",
       "      <td>2.716190e+08</td>\n",
       "    </tr>\n",
       "    <tr>\n",
       "      <th>3</th>\n",
       "      <td>140607</td>\n",
       "      <td>tt2488496</td>\n",
       "      <td>11.173104</td>\n",
       "      <td>200000000</td>\n",
       "      <td>2068178225</td>\n",
       "      <td>Star Wars: The Force Awakens</td>\n",
       "      <td>Harrison Ford|Mark Hamill|Carrie Fisher|Adam D...</td>\n",
       "      <td>http://www.starwars.com/films/star-wars-episod...</td>\n",
       "      <td>J.J. Abrams</td>\n",
       "      <td>Every generation has a story.</td>\n",
       "      <td>...</td>\n",
       "      <td>Thirty years after defeating the Galactic Empi...</td>\n",
       "      <td>136</td>\n",
       "      <td>Action|Adventure|Science Fiction|Fantasy</td>\n",
       "      <td>Lucasfilm|Truenorth Productions|Bad Robot</td>\n",
       "      <td>12/15/15</td>\n",
       "      <td>5292</td>\n",
       "      <td>7.5</td>\n",
       "      <td>2015</td>\n",
       "      <td>1.839999e+08</td>\n",
       "      <td>1.902723e+09</td>\n",
       "    </tr>\n",
       "    <tr>\n",
       "      <th>4</th>\n",
       "      <td>168259</td>\n",
       "      <td>tt2820852</td>\n",
       "      <td>9.335014</td>\n",
       "      <td>190000000</td>\n",
       "      <td>1506249360</td>\n",
       "      <td>Furious 7</td>\n",
       "      <td>Vin Diesel|Paul Walker|Jason Statham|Michelle ...</td>\n",
       "      <td>http://www.furious7.com/</td>\n",
       "      <td>James Wan</td>\n",
       "      <td>Vengeance Hits Home</td>\n",
       "      <td>...</td>\n",
       "      <td>Deckard Shaw seeks revenge against Dominic Tor...</td>\n",
       "      <td>137</td>\n",
       "      <td>Action|Crime|Thriller</td>\n",
       "      <td>Universal Pictures|Original Film|Media Rights ...</td>\n",
       "      <td>4/1/15</td>\n",
       "      <td>2947</td>\n",
       "      <td>7.3</td>\n",
       "      <td>2015</td>\n",
       "      <td>1.747999e+08</td>\n",
       "      <td>1.385749e+09</td>\n",
       "    </tr>\n",
       "  </tbody>\n",
       "</table>\n",
       "<p>5 rows × 21 columns</p>\n",
       "</div>"
      ],
      "text/plain": [
       "       id    imdb_id  popularity     budget     revenue  \\\n",
       "0  135397  tt0369610   32.985763  150000000  1513528810   \n",
       "1   76341  tt1392190   28.419936  150000000   378436354   \n",
       "2  262500  tt2908446   13.112507  110000000   295238201   \n",
       "3  140607  tt2488496   11.173104  200000000  2068178225   \n",
       "4  168259  tt2820852    9.335014  190000000  1506249360   \n",
       "\n",
       "                 original_title  \\\n",
       "0                Jurassic World   \n",
       "1            Mad Max: Fury Road   \n",
       "2                     Insurgent   \n",
       "3  Star Wars: The Force Awakens   \n",
       "4                     Furious 7   \n",
       "\n",
       "                                                cast  \\\n",
       "0  Chris Pratt|Bryce Dallas Howard|Irrfan Khan|Vi...   \n",
       "1  Tom Hardy|Charlize Theron|Hugh Keays-Byrne|Nic...   \n",
       "2  Shailene Woodley|Theo James|Kate Winslet|Ansel...   \n",
       "3  Harrison Ford|Mark Hamill|Carrie Fisher|Adam D...   \n",
       "4  Vin Diesel|Paul Walker|Jason Statham|Michelle ...   \n",
       "\n",
       "                                            homepage          director  \\\n",
       "0                      http://www.jurassicworld.com/   Colin Trevorrow   \n",
       "1                        http://www.madmaxmovie.com/     George Miller   \n",
       "2     http://www.thedivergentseries.movie/#insurgent  Robert Schwentke   \n",
       "3  http://www.starwars.com/films/star-wars-episod...       J.J. Abrams   \n",
       "4                           http://www.furious7.com/         James Wan   \n",
       "\n",
       "                         tagline  ...  \\\n",
       "0              The park is open.  ...   \n",
       "1             What a Lovely Day.  ...   \n",
       "2     One Choice Can Destroy You  ...   \n",
       "3  Every generation has a story.  ...   \n",
       "4            Vengeance Hits Home  ...   \n",
       "\n",
       "                                            overview runtime  \\\n",
       "0  Twenty-two years after the events of Jurassic ...     124   \n",
       "1  An apocalyptic story set in the furthest reach...     120   \n",
       "2  Beatrice Prior must confront her inner demons ...     119   \n",
       "3  Thirty years after defeating the Galactic Empi...     136   \n",
       "4  Deckard Shaw seeks revenge against Dominic Tor...     137   \n",
       "\n",
       "                                      genres  \\\n",
       "0  Action|Adventure|Science Fiction|Thriller   \n",
       "1  Action|Adventure|Science Fiction|Thriller   \n",
       "2         Adventure|Science Fiction|Thriller   \n",
       "3   Action|Adventure|Science Fiction|Fantasy   \n",
       "4                      Action|Crime|Thriller   \n",
       "\n",
       "                                production_companies release_date vote_count  \\\n",
       "0  Universal Studios|Amblin Entertainment|Legenda...       6/9/15       5562   \n",
       "1  Village Roadshow Pictures|Kennedy Miller Produ...      5/13/15       6185   \n",
       "2  Summit Entertainment|Mandeville Films|Red Wago...      3/18/15       2480   \n",
       "3          Lucasfilm|Truenorth Productions|Bad Robot     12/15/15       5292   \n",
       "4  Universal Pictures|Original Film|Media Rights ...       4/1/15       2947   \n",
       "\n",
       "   vote_average  release_year    budget_adj   revenue_adj  \n",
       "0           6.5          2015  1.379999e+08  1.392446e+09  \n",
       "1           7.1          2015  1.379999e+08  3.481613e+08  \n",
       "2           6.3          2015  1.012000e+08  2.716190e+08  \n",
       "3           7.5          2015  1.839999e+08  1.902723e+09  \n",
       "4           7.3          2015  1.747999e+08  1.385749e+09  \n",
       "\n",
       "[5 rows x 21 columns]"
      ]
     },
     "execution_count": 207,
     "metadata": {},
     "output_type": "execute_result"
    }
   ],
   "source": [
    "# Load ther dataset\n",
    "df = pd.read_csv('Dataset/tmdb-movies.csv')\n",
    "df.head()"
   ]
  },
  {
   "cell_type": "code",
   "execution_count": 209,
   "id": "87dc2a4a",
   "metadata": {},
   "outputs": [
    {
     "data": {
      "text/plain": [
       "['id',\n",
       " 'imdb_id',\n",
       " 'popularity',\n",
       " 'budget',\n",
       " 'revenue',\n",
       " 'original_title',\n",
       " 'cast',\n",
       " 'homepage',\n",
       " 'director',\n",
       " 'tagline',\n",
       " 'keywords',\n",
       " 'overview',\n",
       " 'runtime',\n",
       " 'genres',\n",
       " 'production_companies',\n",
       " 'release_date',\n",
       " 'vote_count',\n",
       " 'vote_average',\n",
       " 'release_year',\n",
       " 'budget_adj',\n",
       " 'revenue_adj']"
      ]
     },
     "execution_count": 209,
     "metadata": {},
     "output_type": "execute_result"
    }
   ],
   "source": [
    "list(df.columns)"
   ]
  },
  {
   "cell_type": "code",
   "execution_count": 205,
   "id": "cb41a6c2",
   "metadata": {},
   "outputs": [
    {
     "name": "stdout",
     "output_type": "stream",
     "text": [
      "(10730, 16)\n"
     ]
    }
   ],
   "source": [
    "# Checking the dimension of the dataset\n",
    "print(df.shape)"
   ]
  },
  {
   "cell_type": "code",
   "execution_count": 210,
   "id": "21852483",
   "metadata": {},
   "outputs": [
    {
     "data": {
      "text/plain": [
       "id                        int64\n",
       "imdb_id                  object\n",
       "popularity              float64\n",
       "budget                    int64\n",
       "revenue                   int64\n",
       "original_title           object\n",
       "cast                     object\n",
       "homepage                 object\n",
       "director                 object\n",
       "tagline                  object\n",
       "keywords                 object\n",
       "overview                 object\n",
       "runtime                   int64\n",
       "genres                   object\n",
       "production_companies     object\n",
       "release_date             object\n",
       "vote_count                int64\n",
       "vote_average            float64\n",
       "release_year              int64\n",
       "budget_adj              float64\n",
       "revenue_adj             float64\n",
       "dtype: object"
      ]
     },
     "execution_count": 210,
     "metadata": {},
     "output_type": "execute_result"
    }
   ],
   "source": [
    "# Checking for the datatype of the features\n",
    "\n",
    "df.dtypes"
   ]
  },
  {
   "cell_type": "markdown",
   "id": "41989613",
   "metadata": {},
   "source": [
    "### Data Cleaning"
   ]
  },
  {
   "cell_type": "code",
   "execution_count": 211,
   "id": "e8bf60dc",
   "metadata": {},
   "outputs": [
    {
     "name": "stdout",
     "output_type": "stream",
     "text": [
      "id                         0\n",
      "imdb_id                   10\n",
      "popularity                 0\n",
      "budget                     0\n",
      "revenue                    0\n",
      "original_title             0\n",
      "cast                      76\n",
      "homepage                7930\n",
      "director                  44\n",
      "tagline                 2824\n",
      "keywords                1493\n",
      "overview                   4\n",
      "runtime                    0\n",
      "genres                    23\n",
      "production_companies    1030\n",
      "release_date               0\n",
      "vote_count                 0\n",
      "vote_average               0\n",
      "release_year               0\n",
      "budget_adj                 0\n",
      "revenue_adj                0\n",
      "dtype: int64\n"
     ]
    }
   ],
   "source": [
    "# Checking for missing values\n",
    "print(df.isnull().sum())"
   ]
  },
  {
   "cell_type": "code",
   "execution_count": 212,
   "id": "a4ac1325",
   "metadata": {},
   "outputs": [],
   "source": [
    "# Dropping some columns that are less important\n",
    "df.drop(['homepage','tagline', 'keywords', 'production_companies'], axis=1, inplace=True)\n"
   ]
  },
  {
   "cell_type": "code",
   "execution_count": 213,
   "id": "24f75846",
   "metadata": {},
   "outputs": [],
   "source": [
    "df.drop('imdb_id', axis=1, inplace=True)"
   ]
  },
  {
   "cell_type": "code",
   "execution_count": 214,
   "id": "4538c262",
   "metadata": {},
   "outputs": [
    {
     "data": {
      "text/html": [
       "<div>\n",
       "<style scoped>\n",
       "    .dataframe tbody tr th:only-of-type {\n",
       "        vertical-align: middle;\n",
       "    }\n",
       "\n",
       "    .dataframe tbody tr th {\n",
       "        vertical-align: top;\n",
       "    }\n",
       "\n",
       "    .dataframe thead th {\n",
       "        text-align: right;\n",
       "    }\n",
       "</style>\n",
       "<table border=\"1\" class=\"dataframe\">\n",
       "  <thead>\n",
       "    <tr style=\"text-align: right;\">\n",
       "      <th></th>\n",
       "      <th>id</th>\n",
       "      <th>popularity</th>\n",
       "      <th>budget</th>\n",
       "      <th>revenue</th>\n",
       "      <th>runtime</th>\n",
       "      <th>vote_count</th>\n",
       "      <th>vote_average</th>\n",
       "      <th>release_year</th>\n",
       "      <th>budget_adj</th>\n",
       "      <th>revenue_adj</th>\n",
       "    </tr>\n",
       "  </thead>\n",
       "  <tbody>\n",
       "    <tr>\n",
       "      <th>count</th>\n",
       "      <td>10866.000000</td>\n",
       "      <td>10866.000000</td>\n",
       "      <td>1.086600e+04</td>\n",
       "      <td>1.086600e+04</td>\n",
       "      <td>10866.000000</td>\n",
       "      <td>10866.000000</td>\n",
       "      <td>10866.000000</td>\n",
       "      <td>10866.000000</td>\n",
       "      <td>1.086600e+04</td>\n",
       "      <td>1.086600e+04</td>\n",
       "    </tr>\n",
       "    <tr>\n",
       "      <th>mean</th>\n",
       "      <td>66064.177434</td>\n",
       "      <td>0.646441</td>\n",
       "      <td>1.462570e+07</td>\n",
       "      <td>3.982332e+07</td>\n",
       "      <td>102.070863</td>\n",
       "      <td>217.389748</td>\n",
       "      <td>5.974922</td>\n",
       "      <td>2001.322658</td>\n",
       "      <td>1.755104e+07</td>\n",
       "      <td>5.136436e+07</td>\n",
       "    </tr>\n",
       "    <tr>\n",
       "      <th>std</th>\n",
       "      <td>92130.136561</td>\n",
       "      <td>1.000185</td>\n",
       "      <td>3.091321e+07</td>\n",
       "      <td>1.170035e+08</td>\n",
       "      <td>31.381405</td>\n",
       "      <td>575.619058</td>\n",
       "      <td>0.935142</td>\n",
       "      <td>12.812941</td>\n",
       "      <td>3.430616e+07</td>\n",
       "      <td>1.446325e+08</td>\n",
       "    </tr>\n",
       "    <tr>\n",
       "      <th>min</th>\n",
       "      <td>5.000000</td>\n",
       "      <td>0.000065</td>\n",
       "      <td>0.000000e+00</td>\n",
       "      <td>0.000000e+00</td>\n",
       "      <td>0.000000</td>\n",
       "      <td>10.000000</td>\n",
       "      <td>1.500000</td>\n",
       "      <td>1960.000000</td>\n",
       "      <td>0.000000e+00</td>\n",
       "      <td>0.000000e+00</td>\n",
       "    </tr>\n",
       "    <tr>\n",
       "      <th>25%</th>\n",
       "      <td>10596.250000</td>\n",
       "      <td>0.207583</td>\n",
       "      <td>0.000000e+00</td>\n",
       "      <td>0.000000e+00</td>\n",
       "      <td>90.000000</td>\n",
       "      <td>17.000000</td>\n",
       "      <td>5.400000</td>\n",
       "      <td>1995.000000</td>\n",
       "      <td>0.000000e+00</td>\n",
       "      <td>0.000000e+00</td>\n",
       "    </tr>\n",
       "    <tr>\n",
       "      <th>50%</th>\n",
       "      <td>20669.000000</td>\n",
       "      <td>0.383856</td>\n",
       "      <td>0.000000e+00</td>\n",
       "      <td>0.000000e+00</td>\n",
       "      <td>99.000000</td>\n",
       "      <td>38.000000</td>\n",
       "      <td>6.000000</td>\n",
       "      <td>2006.000000</td>\n",
       "      <td>0.000000e+00</td>\n",
       "      <td>0.000000e+00</td>\n",
       "    </tr>\n",
       "    <tr>\n",
       "      <th>75%</th>\n",
       "      <td>75610.000000</td>\n",
       "      <td>0.713817</td>\n",
       "      <td>1.500000e+07</td>\n",
       "      <td>2.400000e+07</td>\n",
       "      <td>111.000000</td>\n",
       "      <td>145.750000</td>\n",
       "      <td>6.600000</td>\n",
       "      <td>2011.000000</td>\n",
       "      <td>2.085325e+07</td>\n",
       "      <td>3.369710e+07</td>\n",
       "    </tr>\n",
       "    <tr>\n",
       "      <th>max</th>\n",
       "      <td>417859.000000</td>\n",
       "      <td>32.985763</td>\n",
       "      <td>4.250000e+08</td>\n",
       "      <td>2.781506e+09</td>\n",
       "      <td>900.000000</td>\n",
       "      <td>9767.000000</td>\n",
       "      <td>9.200000</td>\n",
       "      <td>2015.000000</td>\n",
       "      <td>4.250000e+08</td>\n",
       "      <td>2.827124e+09</td>\n",
       "    </tr>\n",
       "  </tbody>\n",
       "</table>\n",
       "</div>"
      ],
      "text/plain": [
       "                  id    popularity        budget       revenue       runtime  \\\n",
       "count   10866.000000  10866.000000  1.086600e+04  1.086600e+04  10866.000000   \n",
       "mean    66064.177434      0.646441  1.462570e+07  3.982332e+07    102.070863   \n",
       "std     92130.136561      1.000185  3.091321e+07  1.170035e+08     31.381405   \n",
       "min         5.000000      0.000065  0.000000e+00  0.000000e+00      0.000000   \n",
       "25%     10596.250000      0.207583  0.000000e+00  0.000000e+00     90.000000   \n",
       "50%     20669.000000      0.383856  0.000000e+00  0.000000e+00     99.000000   \n",
       "75%     75610.000000      0.713817  1.500000e+07  2.400000e+07    111.000000   \n",
       "max    417859.000000     32.985763  4.250000e+08  2.781506e+09    900.000000   \n",
       "\n",
       "         vote_count  vote_average  release_year    budget_adj   revenue_adj  \n",
       "count  10866.000000  10866.000000  10866.000000  1.086600e+04  1.086600e+04  \n",
       "mean     217.389748      5.974922   2001.322658  1.755104e+07  5.136436e+07  \n",
       "std      575.619058      0.935142     12.812941  3.430616e+07  1.446325e+08  \n",
       "min       10.000000      1.500000   1960.000000  0.000000e+00  0.000000e+00  \n",
       "25%       17.000000      5.400000   1995.000000  0.000000e+00  0.000000e+00  \n",
       "50%       38.000000      6.000000   2006.000000  0.000000e+00  0.000000e+00  \n",
       "75%      145.750000      6.600000   2011.000000  2.085325e+07  3.369710e+07  \n",
       "max     9767.000000      9.200000   2015.000000  4.250000e+08  2.827124e+09  "
      ]
     },
     "execution_count": 214,
     "metadata": {},
     "output_type": "execute_result"
    }
   ],
   "source": [
    "# Running Descriptive Statistics\n",
    "df.describe()"
   ]
  },
  {
   "cell_type": "code",
   "execution_count": 215,
   "id": "8942c75f",
   "metadata": {},
   "outputs": [
    {
     "data": {
      "text/plain": [
       "id                 0\n",
       "popularity         0\n",
       "budget             0\n",
       "revenue            0\n",
       "original_title     0\n",
       "cast              76\n",
       "director          44\n",
       "overview           4\n",
       "runtime            0\n",
       "genres            23\n",
       "release_date       0\n",
       "vote_count         0\n",
       "vote_average       0\n",
       "release_year       0\n",
       "budget_adj         0\n",
       "revenue_adj        0\n",
       "dtype: int64"
      ]
     },
     "execution_count": 215,
     "metadata": {},
     "output_type": "execute_result"
    }
   ],
   "source": [
    "df.isnull().sum()"
   ]
  },
  {
   "cell_type": "code",
   "execution_count": 216,
   "id": "b998d1cf",
   "metadata": {},
   "outputs": [],
   "source": [
    "# Dropping missing values\n",
    "df.dropna(axis=0, inplace=True)"
   ]
  },
  {
   "cell_type": "code",
   "execution_count": 217,
   "id": "ad9a36cc",
   "metadata": {},
   "outputs": [
    {
     "data": {
      "text/plain": [
       "id                0\n",
       "popularity        0\n",
       "budget            0\n",
       "revenue           0\n",
       "original_title    0\n",
       "cast              0\n",
       "director          0\n",
       "overview          0\n",
       "runtime           0\n",
       "genres            0\n",
       "release_date      0\n",
       "vote_count        0\n",
       "vote_average      0\n",
       "release_year      0\n",
       "budget_adj        0\n",
       "revenue_adj       0\n",
       "dtype: int64"
      ]
     },
     "execution_count": 217,
     "metadata": {},
     "output_type": "execute_result"
    }
   ],
   "source": [
    "df.isnull().sum()"
   ]
  },
  {
   "cell_type": "code",
   "execution_count": 218,
   "id": "6f3923df",
   "metadata": {},
   "outputs": [
    {
     "data": {
      "text/plain": [
       "(10730, 16)"
      ]
     },
     "execution_count": 218,
     "metadata": {},
     "output_type": "execute_result"
    }
   ],
   "source": [
    "#Checking for the new shape\n",
    "df.shape"
   ]
  },
  {
   "cell_type": "markdown",
   "id": "2426492a",
   "metadata": {},
   "source": [
    "# Exploratory Data Analysis"
   ]
  },
  {
   "cell_type": "code",
   "execution_count": 219,
   "id": "342f9f58",
   "metadata": {},
   "outputs": [
    {
     "data": {
      "text/html": [
       "<div>\n",
       "<style scoped>\n",
       "    .dataframe tbody tr th:only-of-type {\n",
       "        vertical-align: middle;\n",
       "    }\n",
       "\n",
       "    .dataframe tbody tr th {\n",
       "        vertical-align: top;\n",
       "    }\n",
       "\n",
       "    .dataframe thead th {\n",
       "        text-align: right;\n",
       "    }\n",
       "</style>\n",
       "<table border=\"1\" class=\"dataframe\">\n",
       "  <thead>\n",
       "    <tr style=\"text-align: right;\">\n",
       "      <th></th>\n",
       "      <th>0</th>\n",
       "      <th>1</th>\n",
       "      <th>2</th>\n",
       "      <th>3</th>\n",
       "      <th>4</th>\n",
       "    </tr>\n",
       "  </thead>\n",
       "  <tbody>\n",
       "    <tr>\n",
       "      <th>id</th>\n",
       "      <td>135397</td>\n",
       "      <td>76341</td>\n",
       "      <td>262500</td>\n",
       "      <td>140607</td>\n",
       "      <td>168259</td>\n",
       "    </tr>\n",
       "    <tr>\n",
       "      <th>popularity</th>\n",
       "      <td>32.985763</td>\n",
       "      <td>28.419936</td>\n",
       "      <td>13.112507</td>\n",
       "      <td>11.173104</td>\n",
       "      <td>9.335014</td>\n",
       "    </tr>\n",
       "    <tr>\n",
       "      <th>budget</th>\n",
       "      <td>150000000</td>\n",
       "      <td>150000000</td>\n",
       "      <td>110000000</td>\n",
       "      <td>200000000</td>\n",
       "      <td>190000000</td>\n",
       "    </tr>\n",
       "    <tr>\n",
       "      <th>revenue</th>\n",
       "      <td>1513528810</td>\n",
       "      <td>378436354</td>\n",
       "      <td>295238201</td>\n",
       "      <td>2068178225</td>\n",
       "      <td>1506249360</td>\n",
       "    </tr>\n",
       "    <tr>\n",
       "      <th>original_title</th>\n",
       "      <td>Jurassic World</td>\n",
       "      <td>Mad Max: Fury Road</td>\n",
       "      <td>Insurgent</td>\n",
       "      <td>Star Wars: The Force Awakens</td>\n",
       "      <td>Furious 7</td>\n",
       "    </tr>\n",
       "    <tr>\n",
       "      <th>cast</th>\n",
       "      <td>Chris Pratt|Bryce Dallas Howard|Irrfan Khan|Vi...</td>\n",
       "      <td>Tom Hardy|Charlize Theron|Hugh Keays-Byrne|Nic...</td>\n",
       "      <td>Shailene Woodley|Theo James|Kate Winslet|Ansel...</td>\n",
       "      <td>Harrison Ford|Mark Hamill|Carrie Fisher|Adam D...</td>\n",
       "      <td>Vin Diesel|Paul Walker|Jason Statham|Michelle ...</td>\n",
       "    </tr>\n",
       "    <tr>\n",
       "      <th>director</th>\n",
       "      <td>Colin Trevorrow</td>\n",
       "      <td>George Miller</td>\n",
       "      <td>Robert Schwentke</td>\n",
       "      <td>J.J. Abrams</td>\n",
       "      <td>James Wan</td>\n",
       "    </tr>\n",
       "    <tr>\n",
       "      <th>overview</th>\n",
       "      <td>Twenty-two years after the events of Jurassic ...</td>\n",
       "      <td>An apocalyptic story set in the furthest reach...</td>\n",
       "      <td>Beatrice Prior must confront her inner demons ...</td>\n",
       "      <td>Thirty years after defeating the Galactic Empi...</td>\n",
       "      <td>Deckard Shaw seeks revenge against Dominic Tor...</td>\n",
       "    </tr>\n",
       "    <tr>\n",
       "      <th>runtime</th>\n",
       "      <td>124</td>\n",
       "      <td>120</td>\n",
       "      <td>119</td>\n",
       "      <td>136</td>\n",
       "      <td>137</td>\n",
       "    </tr>\n",
       "    <tr>\n",
       "      <th>genres</th>\n",
       "      <td>Action|Adventure|Science Fiction|Thriller</td>\n",
       "      <td>Action|Adventure|Science Fiction|Thriller</td>\n",
       "      <td>Adventure|Science Fiction|Thriller</td>\n",
       "      <td>Action|Adventure|Science Fiction|Fantasy</td>\n",
       "      <td>Action|Crime|Thriller</td>\n",
       "    </tr>\n",
       "    <tr>\n",
       "      <th>release_date</th>\n",
       "      <td>6/9/15</td>\n",
       "      <td>5/13/15</td>\n",
       "      <td>3/18/15</td>\n",
       "      <td>12/15/15</td>\n",
       "      <td>4/1/15</td>\n",
       "    </tr>\n",
       "    <tr>\n",
       "      <th>vote_count</th>\n",
       "      <td>5562</td>\n",
       "      <td>6185</td>\n",
       "      <td>2480</td>\n",
       "      <td>5292</td>\n",
       "      <td>2947</td>\n",
       "    </tr>\n",
       "    <tr>\n",
       "      <th>vote_average</th>\n",
       "      <td>6.5</td>\n",
       "      <td>7.1</td>\n",
       "      <td>6.3</td>\n",
       "      <td>7.5</td>\n",
       "      <td>7.3</td>\n",
       "    </tr>\n",
       "    <tr>\n",
       "      <th>release_year</th>\n",
       "      <td>2015</td>\n",
       "      <td>2015</td>\n",
       "      <td>2015</td>\n",
       "      <td>2015</td>\n",
       "      <td>2015</td>\n",
       "    </tr>\n",
       "    <tr>\n",
       "      <th>budget_adj</th>\n",
       "      <td>137999939.280026</td>\n",
       "      <td>137999939.280026</td>\n",
       "      <td>101199955.472019</td>\n",
       "      <td>183999919.040035</td>\n",
       "      <td>174799923.088033</td>\n",
       "    </tr>\n",
       "    <tr>\n",
       "      <th>revenue_adj</th>\n",
       "      <td>1392445892.5238</td>\n",
       "      <td>348161292.489031</td>\n",
       "      <td>271619025.407628</td>\n",
       "      <td>1902723129.80182</td>\n",
       "      <td>1385748801.47052</td>\n",
       "    </tr>\n",
       "  </tbody>\n",
       "</table>\n",
       "</div>"
      ],
      "text/plain": [
       "                                                                0  \\\n",
       "id                                                         135397   \n",
       "popularity                                              32.985763   \n",
       "budget                                                  150000000   \n",
       "revenue                                                1513528810   \n",
       "original_title                                     Jurassic World   \n",
       "cast            Chris Pratt|Bryce Dallas Howard|Irrfan Khan|Vi...   \n",
       "director                                          Colin Trevorrow   \n",
       "overview        Twenty-two years after the events of Jurassic ...   \n",
       "runtime                                                       124   \n",
       "genres                  Action|Adventure|Science Fiction|Thriller   \n",
       "release_date                                               6/9/15   \n",
       "vote_count                                                   5562   \n",
       "vote_average                                                  6.5   \n",
       "release_year                                                 2015   \n",
       "budget_adj                                       137999939.280026   \n",
       "revenue_adj                                       1392445892.5238   \n",
       "\n",
       "                                                                1  \\\n",
       "id                                                          76341   \n",
       "popularity                                              28.419936   \n",
       "budget                                                  150000000   \n",
       "revenue                                                 378436354   \n",
       "original_title                                 Mad Max: Fury Road   \n",
       "cast            Tom Hardy|Charlize Theron|Hugh Keays-Byrne|Nic...   \n",
       "director                                            George Miller   \n",
       "overview        An apocalyptic story set in the furthest reach...   \n",
       "runtime                                                       120   \n",
       "genres                  Action|Adventure|Science Fiction|Thriller   \n",
       "release_date                                              5/13/15   \n",
       "vote_count                                                   6185   \n",
       "vote_average                                                  7.1   \n",
       "release_year                                                 2015   \n",
       "budget_adj                                       137999939.280026   \n",
       "revenue_adj                                      348161292.489031   \n",
       "\n",
       "                                                                2  \\\n",
       "id                                                         262500   \n",
       "popularity                                              13.112507   \n",
       "budget                                                  110000000   \n",
       "revenue                                                 295238201   \n",
       "original_title                                          Insurgent   \n",
       "cast            Shailene Woodley|Theo James|Kate Winslet|Ansel...   \n",
       "director                                         Robert Schwentke   \n",
       "overview        Beatrice Prior must confront her inner demons ...   \n",
       "runtime                                                       119   \n",
       "genres                         Adventure|Science Fiction|Thriller   \n",
       "release_date                                              3/18/15   \n",
       "vote_count                                                   2480   \n",
       "vote_average                                                  6.3   \n",
       "release_year                                                 2015   \n",
       "budget_adj                                       101199955.472019   \n",
       "revenue_adj                                      271619025.407628   \n",
       "\n",
       "                                                                3  \\\n",
       "id                                                         140607   \n",
       "popularity                                              11.173104   \n",
       "budget                                                  200000000   \n",
       "revenue                                                2068178225   \n",
       "original_title                       Star Wars: The Force Awakens   \n",
       "cast            Harrison Ford|Mark Hamill|Carrie Fisher|Adam D...   \n",
       "director                                              J.J. Abrams   \n",
       "overview        Thirty years after defeating the Galactic Empi...   \n",
       "runtime                                                       136   \n",
       "genres                   Action|Adventure|Science Fiction|Fantasy   \n",
       "release_date                                             12/15/15   \n",
       "vote_count                                                   5292   \n",
       "vote_average                                                  7.5   \n",
       "release_year                                                 2015   \n",
       "budget_adj                                       183999919.040035   \n",
       "revenue_adj                                      1902723129.80182   \n",
       "\n",
       "                                                                4  \n",
       "id                                                         168259  \n",
       "popularity                                               9.335014  \n",
       "budget                                                  190000000  \n",
       "revenue                                                1506249360  \n",
       "original_title                                          Furious 7  \n",
       "cast            Vin Diesel|Paul Walker|Jason Statham|Michelle ...  \n",
       "director                                                James Wan  \n",
       "overview        Deckard Shaw seeks revenge against Dominic Tor...  \n",
       "runtime                                                       137  \n",
       "genres                                      Action|Crime|Thriller  \n",
       "release_date                                               4/1/15  \n",
       "vote_count                                                   2947  \n",
       "vote_average                                                  7.3  \n",
       "release_year                                                 2015  \n",
       "budget_adj                                       174799923.088033  \n",
       "revenue_adj                                      1385748801.47052  "
      ]
     },
     "execution_count": 219,
     "metadata": {},
     "output_type": "execute_result"
    }
   ],
   "source": [
    "df.head().T"
   ]
  },
  {
   "cell_type": "markdown",
   "id": "f97333c5",
   "metadata": {},
   "source": [
    "### Which movies are the most popular of all time?"
   ]
  },
  {
   "cell_type": "code",
   "execution_count": 123,
   "id": "8584eaa5",
   "metadata": {},
   "outputs": [
    {
     "data": {
      "text/plain": [
       "original_title\n",
       "Jurassic World                           32.985763\n",
       "Mad Max: Fury Road                       28.419936\n",
       "Interstellar                             24.949134\n",
       "Guardians of the Galaxy                  14.311205\n",
       "Insurgent                                13.112507\n",
       "Captain America: The Winter Soldier      12.971027\n",
       "Star Wars                                12.037933\n",
       "John Wick                                11.422751\n",
       "Star Wars: The Force Awakens             11.173104\n",
       "The Hunger Games: Mockingjay - Part 1    10.739009\n",
       "Name: popularity, dtype: float64"
      ]
     },
     "execution_count": 123,
     "metadata": {},
     "output_type": "execute_result"
    }
   ],
   "source": [
    "popular_movies = df.groupby('original_title').popularity.max().sort_values(ascending=False)\n",
    "popular_movies.head(10)"
   ]
  },
  {
   "cell_type": "markdown",
   "id": "696aa5d6",
   "metadata": {},
   "source": [
    "### Which genres are the most popular of all time?"
   ]
  },
  {
   "cell_type": "code",
   "execution_count": 124,
   "id": "6d0fb34d",
   "metadata": {},
   "outputs": [
    {
     "data": {
      "text/plain": [
       "genres\n",
       "Action|Adventure|Science Fiction|Thriller    32.985763\n",
       "Adventure|Drama|Science Fiction              24.949134\n",
       "Action|Science Fiction|Adventure             14.311205\n",
       "Adventure|Science Fiction|Thriller           13.112507\n",
       "Action|Adventure|Science Fiction             12.971027\n",
       "Name: popularity, dtype: float64"
      ]
     },
     "execution_count": 124,
     "metadata": {},
     "output_type": "execute_result"
    }
   ],
   "source": [
    "popular_genres = df.groupby('genres').popularity.max().sort_values(ascending=False)\n",
    "popular_genres.head()"
   ]
  },
  {
   "cell_type": "markdown",
   "id": "2ec97371",
   "metadata": {},
   "source": [
    "### Most popular actors/cast of all time"
   ]
  },
  {
   "cell_type": "code",
   "execution_count": 125,
   "id": "28c36294",
   "metadata": {
    "scrolled": true
   },
   "outputs": [
    {
     "data": {
      "text/plain": [
       "cast\n",
       "Chris Pratt|Bryce Dallas Howard|Irrfan Khan|Vincent D'Onofrio|Nick Robinson    32.985763\n",
       "Name: popularity, dtype: float64"
      ]
     },
     "execution_count": 125,
     "metadata": {},
     "output_type": "execute_result"
    }
   ],
   "source": [
    "popular_actors = df.groupby('cast').popularity.max().sort_values(ascending=False)\n",
    "popular_actors.head(1)"
   ]
  },
  {
   "cell_type": "markdown",
   "id": "c40baff9",
   "metadata": {},
   "source": [
    "The most popular actors of all time are:\n",
    "1. Chris Pratt\n",
    "\n",
    "2. Bryce  Dallas Howard\n",
    "\n",
    "3. Irrfan Khan\n",
    "\n",
    "4. Vincent D'Onofrio\n",
    "\n",
    "5. Nick Robinson"
   ]
  },
  {
   "cell_type": "markdown",
   "id": "150a80c5",
   "metadata": {},
   "source": [
    "### Movie title with the highest budget"
   ]
  },
  {
   "cell_type": "code",
   "execution_count": 126,
   "id": "32cbd0e9",
   "metadata": {},
   "outputs": [
    {
     "data": {
      "text/plain": [
       "original_title\n",
       "$5 a Day    0\n",
       "Name: budget, dtype: int64"
      ]
     },
     "execution_count": 126,
     "metadata": {},
     "output_type": "execute_result"
    }
   ],
   "source": [
    "#median_budget = df.budget.median()\n",
    "#high_budget = df[df.budget > median_budget]\n",
    "\n",
    "movie_with_highest_budget = df.groupby('original_title').budget.max()\n",
    "movie_with_highest_budget.head(1)\n"
   ]
  },
  {
   "cell_type": "markdown",
   "id": "e555e8f1",
   "metadata": {},
   "source": [
    "### Observation\n",
    "$5 a Day had the highest movie budget"
   ]
  },
  {
   "cell_type": "markdown",
   "id": "6ae1f960",
   "metadata": {},
   "source": [
    "### Which movie title had the highest vote count?"
   ]
  },
  {
   "cell_type": "code",
   "execution_count": 127,
   "id": "5ae73ee8",
   "metadata": {},
   "outputs": [
    {
     "data": {
      "text/plain": [
       "original_title\n",
       "Inception           9767\n",
       "The Avengers        8903\n",
       "Avatar              8458\n",
       "The Dark Knight     8432\n",
       "Django Unchained    7375\n",
       "Name: vote_count, dtype: int64"
      ]
     },
     "execution_count": 127,
     "metadata": {},
     "output_type": "execute_result"
    }
   ],
   "source": [
    "df.groupby('original_title').vote_count.max().sort_values(ascending=False).head()"
   ]
  },
  {
   "cell_type": "markdown",
   "id": "a0af91a9",
   "metadata": {},
   "source": [
    "### Observation\n",
    "- Inception had the highest vote count"
   ]
  },
  {
   "cell_type": "markdown",
   "id": "1a7be6fb",
   "metadata": {},
   "source": [
    "### Movie with the highest run time"
   ]
  },
  {
   "cell_type": "code",
   "execution_count": 220,
   "id": "89bb496c",
   "metadata": {},
   "outputs": [
    {
     "data": {
      "image/png": "[encoded data removed]",
      "text/plain": [
       "<Figure size 432x360 with 1 Axes>"
      ]
     },
     "metadata": {
      "needs_background": "light"
     },
     "output_type": "display_data"
    }
   ],
   "source": [
    "plt.figure(figsize=(6,5))\n",
    "high_runtime = df.groupby('original_title').runtime.max().sort_values(ascending=False).head(10)\n",
    "\n",
    "high_runtime.plot(kind='bar', xlabel='Movies', ylabel='Runtime [mins]', title='Movie Title with The Highest Runtime', color='green')\n",
    "plt.xticks(rotation=80);"
   ]
  },
  {
   "cell_type": "markdown",
   "id": "9c508853",
   "metadata": {},
   "source": [
    "### Observation\n",
    "- The Story of Film: An Odyssey ha the longest run time"
   ]
  },
  {
   "cell_type": "markdown",
   "id": "52159767",
   "metadata": {},
   "source": [
    "### Popular movies with the highest budget"
   ]
  },
  {
   "cell_type": "code",
   "execution_count": 129,
   "id": "0fba1175",
   "metadata": {},
   "outputs": [
    {
     "data": {
      "text/html": [
       "<div>\n",
       "<style scoped>\n",
       "    .dataframe tbody tr th:only-of-type {\n",
       "        vertical-align: middle;\n",
       "    }\n",
       "\n",
       "    .dataframe tbody tr th {\n",
       "        vertical-align: top;\n",
       "    }\n",
       "\n",
       "    .dataframe thead th {\n",
       "        text-align: right;\n",
       "    }\n",
       "</style>\n",
       "<table border=\"1\" class=\"dataframe\">\n",
       "  <thead>\n",
       "    <tr style=\"text-align: right;\">\n",
       "      <th></th>\n",
       "      <th>id</th>\n",
       "      <th>popularity</th>\n",
       "      <th>budget</th>\n",
       "      <th>revenue</th>\n",
       "      <th>original_title</th>\n",
       "      <th>cast</th>\n",
       "      <th>director</th>\n",
       "      <th>overview</th>\n",
       "      <th>runtime</th>\n",
       "      <th>genres</th>\n",
       "      <th>release_date</th>\n",
       "      <th>vote_count</th>\n",
       "      <th>vote_average</th>\n",
       "      <th>release_year</th>\n",
       "      <th>budget_adj</th>\n",
       "      <th>revenue_adj</th>\n",
       "    </tr>\n",
       "  </thead>\n",
       "  <tbody>\n",
       "    <tr>\n",
       "      <th>0</th>\n",
       "      <td>135397</td>\n",
       "      <td>32.985763</td>\n",
       "      <td>150000000</td>\n",
       "      <td>1513528810</td>\n",
       "      <td>Jurassic World</td>\n",
       "      <td>Chris Pratt|Bryce Dallas Howard|Irrfan Khan|Vi...</td>\n",
       "      <td>Colin Trevorrow</td>\n",
       "      <td>Twenty-two years after the events of Jurassic ...</td>\n",
       "      <td>124</td>\n",
       "      <td>Action|Adventure|Science Fiction|Thriller</td>\n",
       "      <td>6/9/15</td>\n",
       "      <td>5562</td>\n",
       "      <td>6.5</td>\n",
       "      <td>2015</td>\n",
       "      <td>1.379999e+08</td>\n",
       "      <td>1.392446e+09</td>\n",
       "    </tr>\n",
       "    <tr>\n",
       "      <th>1</th>\n",
       "      <td>76341</td>\n",
       "      <td>28.419936</td>\n",
       "      <td>150000000</td>\n",
       "      <td>378436354</td>\n",
       "      <td>Mad Max: Fury Road</td>\n",
       "      <td>Tom Hardy|Charlize Theron|Hugh Keays-Byrne|Nic...</td>\n",
       "      <td>George Miller</td>\n",
       "      <td>An apocalyptic story set in the furthest reach...</td>\n",
       "      <td>120</td>\n",
       "      <td>Action|Adventure|Science Fiction|Thriller</td>\n",
       "      <td>5/13/15</td>\n",
       "      <td>6185</td>\n",
       "      <td>7.1</td>\n",
       "      <td>2015</td>\n",
       "      <td>1.379999e+08</td>\n",
       "      <td>3.481613e+08</td>\n",
       "    </tr>\n",
       "  </tbody>\n",
       "</table>\n",
       "</div>"
      ],
      "text/plain": [
       "       id  popularity     budget     revenue      original_title  \\\n",
       "0  135397   32.985763  150000000  1513528810      Jurassic World   \n",
       "1   76341   28.419936  150000000   378436354  Mad Max: Fury Road   \n",
       "\n",
       "                                                cast         director  \\\n",
       "0  Chris Pratt|Bryce Dallas Howard|Irrfan Khan|Vi...  Colin Trevorrow   \n",
       "1  Tom Hardy|Charlize Theron|Hugh Keays-Byrne|Nic...    George Miller   \n",
       "\n",
       "                                            overview  runtime  \\\n",
       "0  Twenty-two years after the events of Jurassic ...      124   \n",
       "1  An apocalyptic story set in the furthest reach...      120   \n",
       "\n",
       "                                      genres release_date  vote_count  \\\n",
       "0  Action|Adventure|Science Fiction|Thriller       6/9/15        5562   \n",
       "1  Action|Adventure|Science Fiction|Thriller      5/13/15        6185   \n",
       "\n",
       "   vote_average  release_year    budget_adj   revenue_adj  \n",
       "0           6.5          2015  1.379999e+08  1.392446e+09  \n",
       "1           7.1          2015  1.379999e+08  3.481613e+08  "
      ]
     },
     "execution_count": 129,
     "metadata": {},
     "output_type": "execute_result"
    }
   ],
   "source": [
    "#popular_movies = df.groupby('original_title').popularity.max().sort_values(ascending=False)\n",
    "#popular_movies.head()\n",
    "popular_movies = df.nlargest(20, 'popularity')\n",
    "popular_movies.reset_index(drop=True).head(2)"
   ]
  },
  {
   "cell_type": "code",
   "execution_count": 130,
   "id": "155d4b52",
   "metadata": {},
   "outputs": [
    {
     "data": {
      "text/plain": [
       "634     The Hobbit: The Battle of the Five Armies\n",
       "1386                                       Avatar\n",
       "3                    Star Wars: The Force Awakens\n",
       "4                                       Furious 7\n",
       "2875                              The Dark Knight\n",
       "630                       Guardians of the Galaxy\n",
       "631           Captain America: The Winter Soldier\n",
       "629                                  Interstellar\n",
       "635                                    Big Hero 6\n",
       "1919                                    Inception\n",
       "Name: original_title, dtype: object"
      ]
     },
     "execution_count": 130,
     "metadata": {},
     "output_type": "execute_result"
    }
   ],
   "source": [
    "pop_movies_high_budget = popular_movies.nlargest(10, 'budget')\n",
    "pop_movies_high_budget['original_title']"
   ]
  },
  {
   "cell_type": "markdown",
   "id": "04235a8f",
   "metadata": {},
   "source": [
    "### Observation\n",
    "The top 5 popular movies with highest are:\n",
    "1. The Hobbit: The Battle of the Five Armies\n",
    "2. Avatar\n",
    "3. Star Wars: The Force Awakens\n",
    "4. Furious 7\n",
    "5. The Dark Knight"
   ]
  },
  {
   "cell_type": "code",
   "execution_count": 131,
   "id": "9674f451",
   "metadata": {},
   "outputs": [
    {
     "data": {
      "text/plain": [
       "cast\n",
       "Leonardo DiCaprio|Joseph Gordon-Levitt|Ellen Page|Tom Hardy|Ken Watanabe           9767\n",
       "Robert Downey Jr.|Chris Evans|Mark Ruffalo|Chris Hemsworth|Scarlett Johansson      8903\n",
       "Sam Worthington|Zoe Saldana|Sigourney Weaver|Stephen Lang|Michelle Rodriguez       8458\n",
       "Christian Bale|Michael Caine|Heath Ledger|Aaron Eckhart|Gary Oldman                8432\n",
       "Jamie Foxx|Christoph Waltz|Leonardo DiCaprio|Kerry Washington|Samuel L. Jackson    7375\n",
       "Name: vote_count, dtype: int64"
      ]
     },
     "execution_count": 131,
     "metadata": {},
     "output_type": "execute_result"
    }
   ],
   "source": [
    "# Movie actors with highest vote count\n",
    "actors_with_high_vcounts = df.groupby('cast').vote_count.max().sort_values(ascending=False).head()\n",
    "actors_with_high_vcounts"
   ]
  },
  {
   "cell_type": "markdown",
   "id": "e2ad4b44",
   "metadata": {},
   "source": [
    "### Observation\n",
    "The top 5 movie actors with the highest vote counts are:\n",
    "1. Leonardo DiCaprio\n",
    "2. Joseph Gordon-Levitt\n",
    "3. Ellen Page\n",
    "4. Tom Hardy\n",
    "5. Ken wa"
   ]
  },
  {
   "cell_type": "markdown",
   "id": "8abc444e",
   "metadata": {},
   "source": [
    "### How is popularity trending over the period of time?"
   ]
  },
  {
   "cell_type": "code",
   "execution_count": 154,
   "id": "5750c7a1",
   "metadata": {},
   "outputs": [
    {
     "data": {
      "image/png": "[encoded data removed]",
      "text/plain": [
       "<Figure size 432x288 with 1 Axes>"
      ]
     },
     "metadata": {
      "needs_background": "light"
     },
     "output_type": "display_data"
    }
   ],
   "source": [
    "%matplotlib inline\n",
    "df.plot(x='release_year', y='popularity', kind='scatter', alpha=0.7, title='Popularity Trend Over Time');\n",
    "plt.xlabel('Movie Year of Release')\n",
    "plt.ylabel('Movie Popularity');"
   ]
  },
  {
   "cell_type": "markdown",
   "id": "27f5754f",
   "metadata": {},
   "source": [
    "### Observation\n",
    "There is no noticeable trend of popularity over period of time"
   ]
  },
  {
   "cell_type": "code",
   "execution_count": 151,
   "id": "6dc86345",
   "metadata": {},
   "outputs": [
    {
     "data": {
      "text/plain": [
       "Text(0, 0.5, 'Revenue Generated')"
      ]
     },
     "execution_count": 151,
     "metadata": {},
     "output_type": "execute_result"
    },
    {
     "data": {
      "image/png": "[encoded data removed]",
      "text/plain": [
       "<Figure size 432x288 with 1 Axes>"
      ]
     },
     "metadata": {
      "needs_background": "light"
     },
     "output_type": "display_data"
    }
   ],
   "source": [
    "# Revenue Trend over the period of time\n",
    "\n",
    "df.plot(x='release_year', y='revenue',  kind='scatter', title='Revenue Trend Over the Period of Time', alpha=.7);\n",
    "plt.xlabel('Movie Release Year')\n",
    "plt.ylabel('Revenue Generated')"
   ]
  },
  {
   "cell_type": "markdown",
   "id": "4c510c2f",
   "metadata": {},
   "source": [
    "### Observation\n",
    "The Revenue increased over the years"
   ]
  },
  {
   "cell_type": "markdown",
   "id": "2ebf5614",
   "metadata": {},
   "source": [
    "### How does the movie runtime trends over time?"
   ]
  },
  {
   "cell_type": "code",
   "execution_count": 155,
   "id": "82d5903c",
   "metadata": {},
   "outputs": [
    {
     "data": {
      "text/plain": [
       "<AxesSubplot:xlabel='Movie Release Year', ylabel='Movie Runtime'>"
      ]
     },
     "execution_count": 155,
     "metadata": {},
     "output_type": "execute_result"
    },
    {
     "data": {
      "image/png": "[encoded data removed]",
      "text/plain": [
       "<Figure size 432x288 with 1 Axes>"
      ]
     },
     "metadata": {
      "needs_background": "light"
     },
     "output_type": "display_data"
    }
   ],
   "source": [
    "%matplotlib inline\n",
    "df.plot(x='release_year', y='runtime', kind='scatter', xlabel='Movie Release Year', ylabel='Movie Runtime')\n"
   ]
  },
  {
   "cell_type": "markdown",
   "id": "f0152bb5",
   "metadata": {},
   "source": [
    "### Observation\n",
    " There is decrease in movies runtime over the years"
   ]
  },
  {
   "cell_type": "markdown",
   "id": "f45837bc",
   "metadata": {},
   "source": [
    "### Do top rated movies always generate big revenue?"
   ]
  },
  {
   "cell_type": "code",
   "execution_count": 196,
   "id": "97839c70",
   "metadata": {},
   "outputs": [
    {
     "data": {
      "image/png": "[encoded data removed]",
      "text/plain": [
       "<Figure size 432x288 with 1 Axes>"
      ]
     },
     "metadata": {
      "needs_background": "light"
     },
     "output_type": "display_data"
    }
   ],
   "source": [
    "df.plot(x='vote_average', y='revenue', kind='scatter', title='Revenue Generated By Movie Rating', xlabel='Movie Rating', ylabel='Revenue Generated');"
   ]
  },
  {
   "cell_type": "markdown",
   "id": "2b3c9f78",
   "metadata": {},
   "source": [
    "### Observation\n",
    "Top Rated movies always generate big revenues"
   ]
  },
  {
   "cell_type": "markdown",
   "id": "30c1832a",
   "metadata": {},
   "source": [
    "### Is there any impact of vote count on revenue?"
   ]
  },
  {
   "cell_type": "code",
   "execution_count": 180,
   "id": "2d8610a0",
   "metadata": {},
   "outputs": [
    {
     "data": {
      "image/png": "[encoded data removed]",
      "text/plain": [
       "<Figure size 432x288 with 1 Axes>"
      ]
     },
     "metadata": {
      "needs_background": "light"
     },
     "output_type": "display_data"
    }
   ],
   "source": [
    "df.plot(x='vote_count', y='revenue', kind='scatter', title='Revenue Generated By Movie Rating', xlabel='Movie Rating', ylabel='Revenue Generated');"
   ]
  },
  {
   "cell_type": "markdown",
   "id": "c5a03e9e",
   "metadata": {},
   "source": [
    "### Observation\n",
    "Vote count impacts revenue positively"
   ]
  },
  {
   "cell_type": "markdown",
   "id": "45fa5e25",
   "metadata": {},
   "source": [
    "### Can we provide a list of most popular directors based on ratings?"
   ]
  },
  {
   "cell_type": "code",
   "execution_count": 198,
   "id": "fc0f2c41",
   "metadata": {},
   "outputs": [
    {
     "data": {
      "text/html": [
       "<div>\n",
       "<style scoped>\n",
       "    .dataframe tbody tr th:only-of-type {\n",
       "        vertical-align: middle;\n",
       "    }\n",
       "\n",
       "    .dataframe tbody tr th {\n",
       "        vertical-align: top;\n",
       "    }\n",
       "\n",
       "    .dataframe thead th {\n",
       "        text-align: right;\n",
       "    }\n",
       "</style>\n",
       "<table border=\"1\" class=\"dataframe\">\n",
       "  <thead>\n",
       "    <tr style=\"text-align: right;\">\n",
       "      <th></th>\n",
       "      <th>id</th>\n",
       "      <th>popularity</th>\n",
       "      <th>budget</th>\n",
       "      <th>revenue</th>\n",
       "      <th>original_title</th>\n",
       "      <th>cast</th>\n",
       "      <th>director</th>\n",
       "      <th>overview</th>\n",
       "      <th>runtime</th>\n",
       "      <th>genres</th>\n",
       "      <th>release_date</th>\n",
       "      <th>vote_count</th>\n",
       "      <th>vote_average</th>\n",
       "      <th>release_year</th>\n",
       "      <th>budget_adj</th>\n",
       "      <th>revenue_adj</th>\n",
       "    </tr>\n",
       "  </thead>\n",
       "  <tbody>\n",
       "    <tr>\n",
       "      <th>3894</th>\n",
       "      <td>125336</td>\n",
       "      <td>0.006925</td>\n",
       "      <td>0</td>\n",
       "      <td>0</td>\n",
       "      <td>The Story of Film: An Odyssey</td>\n",
       "      <td>Mark Cousins|Jean-Michel Frodon|Cari Beauchamp...</td>\n",
       "      <td>Mark Cousins</td>\n",
       "      <td>The Story of Film: An Odyssey, written and dir...</td>\n",
       "      <td>900</td>\n",
       "      <td>Documentary</td>\n",
       "      <td>9/3/11</td>\n",
       "      <td>14</td>\n",
       "      <td>9.2</td>\n",
       "      <td>2011</td>\n",
       "      <td>0.0</td>\n",
       "      <td>0.0</td>\n",
       "    </tr>\n",
       "    <tr>\n",
       "      <th>1200</th>\n",
       "      <td>374430</td>\n",
       "      <td>0.129531</td>\n",
       "      <td>0</td>\n",
       "      <td>0</td>\n",
       "      <td>Black Mirror: White Christmas</td>\n",
       "      <td>Jon Hamm|Rafe Spall|Oona Chaplin|Natalia Tena|...</td>\n",
       "      <td>Carl Tibbetts</td>\n",
       "      <td>This feature-length special consists of three ...</td>\n",
       "      <td>74</td>\n",
       "      <td>Drama|Horror|Mystery|Science Fiction|Thriller</td>\n",
       "      <td>12/16/14</td>\n",
       "      <td>41</td>\n",
       "      <td>8.8</td>\n",
       "      <td>2014</td>\n",
       "      <td>0.0</td>\n",
       "      <td>0.0</td>\n",
       "    </tr>\n",
       "  </tbody>\n",
       "</table>\n",
       "</div>"
      ],
      "text/plain": [
       "          id  popularity  budget  revenue                 original_title  \\\n",
       "3894  125336    0.006925       0        0  The Story of Film: An Odyssey   \n",
       "1200  374430    0.129531       0        0  Black Mirror: White Christmas   \n",
       "\n",
       "                                                   cast       director  \\\n",
       "3894  Mark Cousins|Jean-Michel Frodon|Cari Beauchamp...   Mark Cousins   \n",
       "1200  Jon Hamm|Rafe Spall|Oona Chaplin|Natalia Tena|...  Carl Tibbetts   \n",
       "\n",
       "                                               overview  runtime  \\\n",
       "3894  The Story of Film: An Odyssey, written and dir...      900   \n",
       "1200  This feature-length special consists of three ...       74   \n",
       "\n",
       "                                             genres release_date  vote_count  \\\n",
       "3894                                    Documentary       9/3/11          14   \n",
       "1200  Drama|Horror|Mystery|Science Fiction|Thriller     12/16/14          41   \n",
       "\n",
       "      vote_average  release_year  budget_adj  revenue_adj  \n",
       "3894           9.2          2011         0.0          0.0  \n",
       "1200           8.8          2014         0.0          0.0  "
      ]
     },
     "execution_count": 198,
     "metadata": {},
     "output_type": "execute_result"
    }
   ],
   "source": [
    "high_pop = df.nlargest(10, 'vote_average')\n",
    "high_pop.head(2)"
   ]
  },
  {
   "cell_type": "code",
   "execution_count": 200,
   "id": "ea7deba1",
   "metadata": {},
   "outputs": [
    {
     "data": {
      "text/plain": [
       "3894                            Mark Cousins\n",
       "1200                           Carl Tibbetts\n",
       "6911                            David Mallet\n",
       "3690                             Curt Morgan\n",
       "8221    Martin Scorsese|Michael Henry Wilson\n",
       "8411                            Saul Swimmer\n",
       "8839                             Stan Lathan\n",
       "609                           Andrew Jarecki\n",
       "2334                  Sam Dunn|Scot McFadyen\n",
       "4178                          Frank Darabont\n",
       "Name: director, dtype: object"
      ]
     },
     "execution_count": 200,
     "metadata": {},
     "output_type": "execute_result"
    }
   ],
   "source": [
    "pop_directors = high_pop.director\n",
    "pop_directors"
   ]
  },
  {
   "cell_type": "markdown",
   "id": "103d2319",
   "metadata": {},
   "source": [
    "**The most popular directors are:**\n",
    "1. Mark Cousins\n",
    "2. Carl Tibbetts\n",
    "3. David Mallet\n",
    "4. Martin Scorsese\n",
    "5. Michael Henry Wilson"
   ]
  },
  {
   "cell_type": "markdown",
   "id": "8b5a31a4",
   "metadata": {},
   "source": [
    "### Can we provide a list of directors that generates big revenue?"
   ]
  },
  {
   "cell_type": "code",
   "execution_count": 195,
   "id": "5767c51a",
   "metadata": {},
   "outputs": [
    {
     "data": {
      "text/plain": [
       "1386              James Cameron\n",
       "3                   J.J. Abrams\n",
       "5231              James Cameron\n",
       "4361                Joss Whedon\n",
       "0               Colin Trevorrow\n",
       "4                     James Wan\n",
       "14                  Joss Whedon\n",
       "3374                David Yates\n",
       "5422    Chris Buck|Jennifer Lee\n",
       "5425                Shane Black\n",
       "Name: director, dtype: object"
      ]
     },
     "execution_count": 195,
     "metadata": {},
     "output_type": "execute_result"
    }
   ],
   "source": [
    "big_rev = df.nlargest(10, 'revenue')\n",
    "big_rev.director"
   ]
  },
  {
   "cell_type": "markdown",
   "id": "87169724",
   "metadata": {},
   "source": [
    "**The Directors that generate big revenues are:**\n",
    "- James Cameron\n",
    "- J.J. Abrams\n",
    "- Joss Whedon\n",
    "- Colin Trevorrow\n",
    "- James Wan"
   ]
  },
  {
   "cell_type": "markdown",
   "id": "28882ee3",
   "metadata": {},
   "source": [
    "### Is there a relation between popularity and revenue for directors? "
   ]
  },
  {
   "cell_type": "code",
   "execution_count": 202,
   "id": "466d6d79",
   "metadata": {},
   "outputs": [
    {
     "data": {
      "image/png": "[encoded data removed]",
      "text/plain": [
       "<Figure size 432x288 with 1 Axes>"
      ]
     },
     "metadata": {
      "needs_background": "light"
     },
     "output_type": "display_data"
    }
   ],
   "source": [
    "df.plot(x='popularity', y='revenue', kind='scatter', title='Revenue Generated Based On Movie Popularity', xlabel='Movie Popularity', ylabel='Movie Revenues');"
   ]
  },
  {
   "cell_type": "markdown",
   "id": "1512a894",
   "metadata": {},
   "source": [
    "### Observation\n",
    "- Popular movies result to big revenues"
   ]
  },
  {
   "cell_type": "markdown",
   "id": "6c3e090d",
   "metadata": {},
   "source": [
    "# Conclusion"
   ]
  },
  {
   "cell_type": "markdown",
   "id": "ceb3d8e1",
   "metadata": {},
   "source": [
    "After thorough cleaning of the movies dataset, Exploratory Data Analysis was performed on the dataset in order to draw insights from the dataset.\n",
    "The key findings from the exoplorations are:\n",
    "- Jurassic World was the most popular  movie of all time\n",
    "- Action,Adventure,Science Fiction and Thriller were the most   popular genres of all time.\n",
    "- Chris Pratt was the most popular actor\n",
    "- $5 a Day had the highest budget\n",
    "- The Story of Film: An Odyssey ha the longest run time had the highest movie runtime\n",
    "- The Hobbit: The Battle of the Five Armies was the most movie  with highest budget\n",
    "- Inception had the highest vote count\n",
    "- Movie revenues increased as the years went by.\n",
    "- Mark Cousins was the most popular director\n",
    "- James Cameron generated tyhe biggest revenue amongst the directors."
   ]
  },
  {
   "cell_type": "markdown",
   "id": "06290467",
   "metadata": {},
   "source": [
    "## Limitation(s)"
   ]
  },
  {
   "cell_type": "markdown",
   "id": "51b26870",
   "metadata": {},
   "source": [
    "1. The statistics employed here are descriptive and not inferential statistics, so no hypotheses and inferences were created with the dataset"
   ]
  }
 ],
 "metadata": {
  "kernelspec": {
   "display_name": "Python 3 (ipykernel)",
   "language": "python",
   "name": "python3"
  },
  "language_info": {
   "codemirror_mode": {
    "name": "ipython",
    "version": 3
   },
   "file_extension": ".py",
   "mimetype": "text/x-python",
   "name": "python",
   "nbconvert_exporter": "python",
   "pygments_lexer": "ipython3",
   "version": "3.9.12"
  }
 },
 "nbformat": 4,
 "nbformat_minor": 5
}
